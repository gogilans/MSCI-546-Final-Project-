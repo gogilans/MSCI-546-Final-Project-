{
  "nbformat": 4,
  "nbformat_minor": 0,
  "metadata": {
    "colab": {
      "provenance": [],
      "include_colab_link": true
    },
    "kernelspec": {
      "name": "python3",
      "display_name": "Python 3"
    },
    "language_info": {
      "name": "python"
    }
  },
  "cells": [
    {
      "cell_type": "markdown",
      "metadata": {
        "id": "view-in-github",
        "colab_type": "text"
      },
      "source": [
        "<a href=\"https://colab.research.google.com/github/gogilans/MSCI-546-Final-Project-/blob/main/Neural_Network.ipynb\" target=\"_parent\"><img src=\"https://colab.research.google.com/assets/colab-badge.svg\" alt=\"Open In Colab\"/></a>"
      ]
    },
    {
      "cell_type": "markdown",
      "source": [
        "Import Libraries"
      ],
      "metadata": {
        "id": "WAp85jOvU67R"
      }
    },
    {
      "cell_type": "code",
      "execution_count": null,
      "metadata": {
        "id": "mbEA8hAXH3mJ"
      },
      "outputs": [],
      "source": [
        "import numpy as np\n",
        "import pandas as pd\n",
        "import seaborn as sns\n",
        "import matplotlib.pyplot as plt\n",
        "\n",
        "from sklearn.model_selection import train_test_split\n",
        "from sklearn.linear_model import LogisticRegression\n",
        "from sklearn.metrics import log_loss\n",
        "\n",
        "from sklearn.pipeline import Pipeline\n",
        "from sklearn.impute import SimpleImputer\n",
        "from sklearn.preprocessing import StandardScaler, OneHotEncoder\n",
        "\n",
        "import tensorflow as tf\n",
        "from tensorflow import keras\n",
        "from tensorflow.keras.models import Sequential\n",
        "from tensorflow.keras import layers as L"
      ]
    },
    {
      "cell_type": "markdown",
      "source": [
        "Read Dataset"
      ],
      "metadata": {
        "id": "YbDJ4j1sVHWf"
      }
    },
    {
      "cell_type": "code",
      "source": [
        "from google.colab import files\n",
        "uploaded = files.upload()"
      ],
      "metadata": {
        "colab": {
          "base_uri": "https://localhost:8080/",
          "height": 107
        },
        "id": "umYKProrVK0L",
        "outputId": "f4fbe86a-e017-44cb-b921-f37babd9ef63"
      },
      "execution_count": null,
      "outputs": [
        {
          "output_type": "display_data",
          "data": {
            "text/plain": [
              "<IPython.core.display.HTML object>"
            ],
            "text/html": [
              "\n",
              "     <input type=\"file\" id=\"files-69be76ac-eb0b-4e8f-a4e1-53447a02ef8e\" name=\"files[]\" multiple disabled\n",
              "        style=\"border:none\" />\n",
              "     <output id=\"result-69be76ac-eb0b-4e8f-a4e1-53447a02ef8e\">\n",
              "      Upload widget is only available when the cell has been executed in the\n",
              "      current browser session. Please rerun this cell to enable.\n",
              "      </output>\n",
              "      <script>// Copyright 2017 Google LLC\n",
              "//\n",
              "// Licensed under the Apache License, Version 2.0 (the \"License\");\n",
              "// you may not use this file except in compliance with the License.\n",
              "// You may obtain a copy of the License at\n",
              "//\n",
              "//      http://www.apache.org/licenses/LICENSE-2.0\n",
              "//\n",
              "// Unless required by applicable law or agreed to in writing, software\n",
              "// distributed under the License is distributed on an \"AS IS\" BASIS,\n",
              "// WITHOUT WARRANTIES OR CONDITIONS OF ANY KIND, either express or implied.\n",
              "// See the License for the specific language governing permissions and\n",
              "// limitations under the License.\n",
              "\n",
              "/**\n",
              " * @fileoverview Helpers for google.colab Python module.\n",
              " */\n",
              "(function(scope) {\n",
              "function span(text, styleAttributes = {}) {\n",
              "  const element = document.createElement('span');\n",
              "  element.textContent = text;\n",
              "  for (const key of Object.keys(styleAttributes)) {\n",
              "    element.style[key] = styleAttributes[key];\n",
              "  }\n",
              "  return element;\n",
              "}\n",
              "\n",
              "// Max number of bytes which will be uploaded at a time.\n",
              "const MAX_PAYLOAD_SIZE = 100 * 1024;\n",
              "\n",
              "function _uploadFiles(inputId, outputId) {\n",
              "  const steps = uploadFilesStep(inputId, outputId);\n",
              "  const outputElement = document.getElementById(outputId);\n",
              "  // Cache steps on the outputElement to make it available for the next call\n",
              "  // to uploadFilesContinue from Python.\n",
              "  outputElement.steps = steps;\n",
              "\n",
              "  return _uploadFilesContinue(outputId);\n",
              "}\n",
              "\n",
              "// This is roughly an async generator (not supported in the browser yet),\n",
              "// where there are multiple asynchronous steps and the Python side is going\n",
              "// to poll for completion of each step.\n",
              "// This uses a Promise to block the python side on completion of each step,\n",
              "// then passes the result of the previous step as the input to the next step.\n",
              "function _uploadFilesContinue(outputId) {\n",
              "  const outputElement = document.getElementById(outputId);\n",
              "  const steps = outputElement.steps;\n",
              "\n",
              "  const next = steps.next(outputElement.lastPromiseValue);\n",
              "  return Promise.resolve(next.value.promise).then((value) => {\n",
              "    // Cache the last promise value to make it available to the next\n",
              "    // step of the generator.\n",
              "    outputElement.lastPromiseValue = value;\n",
              "    return next.value.response;\n",
              "  });\n",
              "}\n",
              "\n",
              "/**\n",
              " * Generator function which is called between each async step of the upload\n",
              " * process.\n",
              " * @param {string} inputId Element ID of the input file picker element.\n",
              " * @param {string} outputId Element ID of the output display.\n",
              " * @return {!Iterable<!Object>} Iterable of next steps.\n",
              " */\n",
              "function* uploadFilesStep(inputId, outputId) {\n",
              "  const inputElement = document.getElementById(inputId);\n",
              "  inputElement.disabled = false;\n",
              "\n",
              "  const outputElement = document.getElementById(outputId);\n",
              "  outputElement.innerHTML = '';\n",
              "\n",
              "  const pickedPromise = new Promise((resolve) => {\n",
              "    inputElement.addEventListener('change', (e) => {\n",
              "      resolve(e.target.files);\n",
              "    });\n",
              "  });\n",
              "\n",
              "  const cancel = document.createElement('button');\n",
              "  inputElement.parentElement.appendChild(cancel);\n",
              "  cancel.textContent = 'Cancel upload';\n",
              "  const cancelPromise = new Promise((resolve) => {\n",
              "    cancel.onclick = () => {\n",
              "      resolve(null);\n",
              "    };\n",
              "  });\n",
              "\n",
              "  // Wait for the user to pick the files.\n",
              "  const files = yield {\n",
              "    promise: Promise.race([pickedPromise, cancelPromise]),\n",
              "    response: {\n",
              "      action: 'starting',\n",
              "    }\n",
              "  };\n",
              "\n",
              "  cancel.remove();\n",
              "\n",
              "  // Disable the input element since further picks are not allowed.\n",
              "  inputElement.disabled = true;\n",
              "\n",
              "  if (!files) {\n",
              "    return {\n",
              "      response: {\n",
              "        action: 'complete',\n",
              "      }\n",
              "    };\n",
              "  }\n",
              "\n",
              "  for (const file of files) {\n",
              "    const li = document.createElement('li');\n",
              "    li.append(span(file.name, {fontWeight: 'bold'}));\n",
              "    li.append(span(\n",
              "        `(${file.type || 'n/a'}) - ${file.size} bytes, ` +\n",
              "        `last modified: ${\n",
              "            file.lastModifiedDate ? file.lastModifiedDate.toLocaleDateString() :\n",
              "                                    'n/a'} - `));\n",
              "    const percent = span('0% done');\n",
              "    li.appendChild(percent);\n",
              "\n",
              "    outputElement.appendChild(li);\n",
              "\n",
              "    const fileDataPromise = new Promise((resolve) => {\n",
              "      const reader = new FileReader();\n",
              "      reader.onload = (e) => {\n",
              "        resolve(e.target.result);\n",
              "      };\n",
              "      reader.readAsArrayBuffer(file);\n",
              "    });\n",
              "    // Wait for the data to be ready.\n",
              "    let fileData = yield {\n",
              "      promise: fileDataPromise,\n",
              "      response: {\n",
              "        action: 'continue',\n",
              "      }\n",
              "    };\n",
              "\n",
              "    // Use a chunked sending to avoid message size limits. See b/62115660.\n",
              "    let position = 0;\n",
              "    do {\n",
              "      const length = Math.min(fileData.byteLength - position, MAX_PAYLOAD_SIZE);\n",
              "      const chunk = new Uint8Array(fileData, position, length);\n",
              "      position += length;\n",
              "\n",
              "      const base64 = btoa(String.fromCharCode.apply(null, chunk));\n",
              "      yield {\n",
              "        response: {\n",
              "          action: 'append',\n",
              "          file: file.name,\n",
              "          data: base64,\n",
              "        },\n",
              "      };\n",
              "\n",
              "      let percentDone = fileData.byteLength === 0 ?\n",
              "          100 :\n",
              "          Math.round((position / fileData.byteLength) * 100);\n",
              "      percent.textContent = `${percentDone}% done`;\n",
              "\n",
              "    } while (position < fileData.byteLength);\n",
              "  }\n",
              "\n",
              "  // All done.\n",
              "  yield {\n",
              "    response: {\n",
              "      action: 'complete',\n",
              "    }\n",
              "  };\n",
              "}\n",
              "\n",
              "scope.google = scope.google || {};\n",
              "scope.google.colab = scope.google.colab || {};\n",
              "scope.google.colab._files = {\n",
              "  _uploadFiles,\n",
              "  _uploadFilesContinue,\n",
              "};\n",
              "})(self);\n",
              "</script> "
            ]
          },
          "metadata": {}
        },
        {
          "output_type": "stream",
          "name": "stdout",
          "text": [
            "Saving test.csv to test.csv\n",
            "Saving train.csv to train.csv\n"
          ]
        }
      ]
    },
    {
      "cell_type": "code",
      "source": [
        "import io\n",
        "train = pd.read_csv(io.BytesIO(uploaded['train.csv']))"
      ],
      "metadata": {
        "id": "u1hhpcdhbcIY"
      },
      "execution_count": null,
      "outputs": []
    },
    {
      "cell_type": "markdown",
      "source": [
        "Data Pre-Processing"
      ],
      "metadata": {
        "id": "anmNJ9i8cCtD"
      }
    },
    {
      "cell_type": "code",
      "source": [
        "train['Female'] = (train['Sex'] == 'female').astype('int64')\n",
        "train.loc[train['Female'] <= 0.5]\n",
        "\n",
        "train['Male'] = (train['Sex'] == 'male').astype('int64')\n",
        "train.loc[train['Male'] > 0.5]\n",
        "\n",
        "train['FirstClass'] = (train['Pclass'] == 1).astype('int64')\n",
        "\n",
        "# Transforming the Sex into 0 and 1\n",
        "#train['Sex'] = train['Sex'].map({'male': 0, 'female': 1}).astype(int)\n",
        "\n",
        "# Rounding the Age\n",
        "train['Age'].fillna(train['Age'].mean(), inplace = True)\n",
        "\n",
        "#x=x.fillna(0)\n",
        "\n",
        "y=train['Survived']\n",
        "X=train[['Pclass','Age','Sex','Fare']] #removed ticket class and gender and cabin number\n"
      ],
      "metadata": {
        "id": "P_ouO7zecEwu"
      },
      "execution_count": null,
      "outputs": []
    },
    {
      "cell_type": "markdown",
      "source": [
        "Data Analysis\n"
      ],
      "metadata": {
        "id": "C06wvsL0bORr"
      }
    },
    {
      "cell_type": "code",
      "source": [
        "#data imbalance\n",
        "sns.barplot(x = y.unique(), y = y.value_counts())\n",
        "plt.ylabel('Number of Passengers')"
      ],
      "metadata": {
        "colab": {
          "base_uri": "https://localhost:8080/",
          "height": 282
        },
        "id": "U7Ro4ZysbPuC",
        "outputId": "e94a2092-511a-492a-a99f-b4417fdccb48"
      },
      "execution_count": null,
      "outputs": [
        {
          "output_type": "execute_result",
          "data": {
            "text/plain": [
              "Text(0, 0.5, 'Number of Passengers')"
            ]
          },
          "metadata": {},
          "execution_count": 5
        },
        {
          "output_type": "display_data",
          "data": {
            "text/plain": [
              "<Figure size 432x288 with 1 Axes>"
            ],
            "image/png": "[encoded data removed]"
          },
          "metadata": {
            "needs_background": "light"
          }
        }
      ]
    },
    {
      "cell_type": "code",
      "source": [
        "frequencies = X.count()\n",
        "\n",
        "freq_df = pd.DataFrame([frequencies], columns=X.columns)\n",
        "print(freq_df.head())\n",
        "\n",
        "plt.figure(figsize=(10, 6))\n",
        "sns.barplot(x=X.columns, y = frequencies)\n",
        "plt.ylabel('Frequency')\n",
        "plt.xlabel('Feature')\n",
        "plt.show()"
      ],
      "metadata": {
        "colab": {
          "base_uri": "https://localhost:8080/",
          "height": 422
        },
        "id": "e0OEOcJwMcsu",
        "outputId": "2e4a52d1-ab66-473e-ec5e-1928e5597459"
      },
      "execution_count": null,
      "outputs": [
        {
          "output_type": "stream",
          "name": "stdout",
          "text": [
            "   Pclass  Age  Sex  Fare\n",
            "0     891  891  891   891\n"
          ]
        },
        {
          "output_type": "display_data",
          "data": {
            "text/plain": [
              "<Figure size 720x432 with 1 Axes>"
            ],
            "image/png": "[encoded data removed]"
          },
          "metadata": {
            "needs_background": "light"
          }
        }
      ]
    },
    {
      "cell_type": "code",
      "source": [
        "#imputing and one-hot encoding\n",
        "num_pipeline = Pipeline([\n",
        "    ('imputer', SimpleImputer(strategy=\"median\")), \n",
        "    ('std_scaler', StandardScaler())\n",
        "])\n",
        "\n",
        "cat_pipeline = Pipeline([\n",
        "    ('cat_imputer', SimpleImputer(strategy='most_frequent')),\n",
        "    ('one_hot', OneHotEncoder())\n",
        "])\n",
        "\n",
        "#combine pipelines\n",
        "from sklearn.compose import ColumnTransformer\n",
        "\n",
        "num_attribs = ['Age', 'Fare']\n",
        "cat_attribs = ['Pclass', 'Sex',]\n",
        "\n",
        "full_pipeline = ColumnTransformer([(\"num\", num_pipeline, num_attribs), \n",
        "                                   (\"cat\", cat_pipeline, cat_attribs)])\n",
        "X = full_pipeline.fit_transform(X)\n",
        "X.shape\n",
        "\n",
        "#X.reshape(train, [897, 7])\n",
        "#X.shape\n",
        "\n",
        "#split into train and test\n",
        "from sklearn.model_selection import train_test_split\n",
        "X_train, X_val, y_train, y_val = train_test_split(X, y, test_size=0.3, random_state=42)\n",
        "\n",
        "#random state - reproduces the same set of random values"
      ],
      "metadata": {
        "id": "rK691DMtNKAT"
      },
      "execution_count": null,
      "outputs": []
    },
    {
      "cell_type": "code",
      "source": [
        "X_train.shape"
      ],
      "metadata": {
        "colab": {
          "base_uri": "https://localhost:8080/"
        },
        "id": "Yid2Jadbc-8X",
        "outputId": "b8c87828-1f8e-4afd-da61-b0d3e32b114f"
      },
      "execution_count": null,
      "outputs": [
        {
          "output_type": "execute_result",
          "data": {
            "text/plain": [
              "(623, 7)"
            ]
          },
          "metadata": {},
          "execution_count": 60
        }
      ]
    },
    {
      "cell_type": "markdown",
      "source": [
        "Neural Network"
      ],
      "metadata": {
        "id": "AYOikr4FeRKp"
      }
    },
    {
      "cell_type": "code",
      "source": [
        "#Step 1\n",
        "model = Sequential(name='titanic_model')\n",
        "\n",
        "#Step 2\n",
        "model.add(L.InputLayer(input_shape=(7,))) # necessary to use model.summary()\n",
        "\n",
        "#Step 3\n",
        "model.add(L.Dense(512, activation='relu'))\n",
        "model.add(L.Dense(1024, activation='relu'))\n",
        "model.add(L.Dropout(0.4)) #prevents overfitting by setting 40% of nuerons to 0\n",
        "model.add(L.Dense(512, activation='relu'))\n",
        "model.add(L.Dropout(0.4))\n",
        "model.add(L.Dense(128, activation='relu'))\n",
        "model.add(L.Dense(64, activation='relu'))\n",
        "model.add(L.Dense(64, activation='relu'))\n",
        "model.add(L.Dense(1, activation='sigmoid')) # output layer, use sigmoid for binary\n",
        "\n",
        "model.summary()\n"
      ],
      "metadata": {
        "colab": {
          "base_uri": "https://localhost:8080/"
        },
        "id": "OY0cyBfOeUNf",
        "outputId": "d8f5120e-5faa-4c2c-c3e0-94aca68a9c76"
      },
      "execution_count": null,
      "outputs": [
        {
          "output_type": "stream",
          "name": "stdout",
          "text": [
            "Model: \"titanic_model\"\n",
            "_________________________________________________________________\n",
            " Layer (type)                Output Shape              Param #   \n",
            "=================================================================\n",
            " dense (Dense)               (None, 512)               4096      \n",
            "                                                                 \n",
            " dense_1 (Dense)             (None, 1024)              525312    \n",
            "                                                                 \n",
            " dropout (Dropout)           (None, 1024)              0         \n",
            "                                                                 \n",
            " dense_2 (Dense)             (None, 512)               524800    \n",
            "                                                                 \n",
            " dropout_1 (Dropout)         (None, 512)               0         \n",
            "                                                                 \n",
            " dense_3 (Dense)             (None, 128)               65664     \n",
            "                                                                 \n",
            " dense_4 (Dense)             (None, 64)                8256      \n",
            "                                                                 \n",
            " dense_5 (Dense)             (None, 64)                4160      \n",
            "                                                                 \n",
            " dense_6 (Dense)             (None, 1)                 65        \n",
            "                                                                 \n",
            "=================================================================\n",
            "Total params: 1,132,353\n",
            "Trainable params: 1,132,353\n",
            "Non-trainable params: 0\n",
            "_________________________________________________________________\n"
          ]
        }
      ]
    },
    {
      "cell_type": "code",
      "source": [
        "#Step 4\n",
        "model.compile(loss='binary_crossentropy', optimizer=keras.optimizers.Adam(0.0001), metrics=['accuracy'])"
      ],
      "metadata": {
        "id": "6NGxan43OQp8"
      },
      "execution_count": null,
      "outputs": []
    },
    {
      "cell_type": "code",
      "source": [
        "class myCallback(tf.keras.callbacks.Callback):\n",
        "    def on_epoch_end(self, epoch, logs={}):\n",
        "        if(logs.get('val_accuracy')>0.83):\n",
        "            print(\"\\nReached 83% accuracy so cancelling training!\")\n",
        "            self.model.stop_training = True\n",
        "\n",
        "\n",
        "#Step 6\n",
        "history = model.fit(X_train, y_train, \n",
        "                    validation_data=(X_val, y_val), \n",
        "                    batch_size=8, \n",
        "                    callbacks=[myCallback()],\n",
        "                    epochs=50)"
      ],
      "metadata": {
        "colab": {
          "base_uri": "https://localhost:8080/"
        },
        "id": "7QEzb9sSOQr-",
        "outputId": "eb0a54eb-8420-471b-8bcf-686fab02fc0c"
      },
      "execution_count": null,
      "outputs": [
        {
          "output_type": "stream",
          "name": "stdout",
          "text": [
            "Epoch 1/50\n",
            "78/78 [==============================] - 3s 43ms/step - loss: 0.6452 - accuracy: 0.6404 - val_loss: 0.6396 - val_accuracy: 0.6119\n",
            "Epoch 2/50\n",
            "78/78 [==============================] - 2s 26ms/step - loss: 0.6512 - accuracy: 0.6372 - val_loss: 0.6572 - val_accuracy: 0.5933\n",
            "Epoch 3/50\n",
            "78/78 [==============================] - 2s 23ms/step - loss: 0.6462 - accuracy: 0.6276 - val_loss: 0.6506 - val_accuracy: 0.6269\n",
            "Epoch 4/50\n",
            "78/78 [==============================] - 1s 17ms/step - loss: 0.6477 - accuracy: 0.6244 - val_loss: 0.6416 - val_accuracy: 0.6231\n",
            "Epoch 5/50\n",
            "78/78 [==============================] - 2s 21ms/step - loss: 0.6441 - accuracy: 0.6421 - val_loss: 0.6565 - val_accuracy: 0.6119\n",
            "Epoch 6/50\n",
            "78/78 [==============================] - 1s 18ms/step - loss: 0.6447 - accuracy: 0.6437 - val_loss: 0.6533 - val_accuracy: 0.6157\n",
            "Epoch 7/50\n",
            "78/78 [==============================] - 2s 21ms/step - loss: 0.6395 - accuracy: 0.6388 - val_loss: 0.6448 - val_accuracy: 0.6381\n",
            "Epoch 8/50\n",
            "78/78 [==============================] - 2s 20ms/step - loss: 0.6429 - accuracy: 0.6469 - val_loss: 0.6658 - val_accuracy: 0.5970\n",
            "Epoch 9/50\n",
            "78/78 [==============================] - 1s 17ms/step - loss: 0.6480 - accuracy: 0.6388 - val_loss: 0.6587 - val_accuracy: 0.6082\n",
            "Epoch 10/50\n",
            "78/78 [==============================] - 2s 23ms/step - loss: 0.6405 - accuracy: 0.6356 - val_loss: 0.6596 - val_accuracy: 0.5970\n",
            "Epoch 11/50\n",
            "78/78 [==============================] - 2s 26ms/step - loss: 0.6467 - accuracy: 0.6372 - val_loss: 0.6508 - val_accuracy: 0.6007\n",
            "Epoch 12/50\n",
            "78/78 [==============================] - 1s 18ms/step - loss: 0.6428 - accuracy: 0.6356 - val_loss: 0.6514 - val_accuracy: 0.6269\n",
            "Epoch 13/50\n",
            "78/78 [==============================] - 2s 21ms/step - loss: 0.6401 - accuracy: 0.6421 - val_loss: 0.6594 - val_accuracy: 0.6082\n",
            "Epoch 14/50\n",
            "78/78 [==============================] - 2s 21ms/step - loss: 0.6399 - accuracy: 0.6292 - val_loss: 0.6622 - val_accuracy: 0.5933\n",
            "Epoch 15/50\n",
            "78/78 [==============================] - 1s 18ms/step - loss: 0.6457 - accuracy: 0.6228 - val_loss: 0.6540 - val_accuracy: 0.6157\n",
            "Epoch 16/50\n",
            "78/78 [==============================] - 1s 16ms/step - loss: 0.6384 - accuracy: 0.6388 - val_loss: 0.6527 - val_accuracy: 0.6418\n",
            "Epoch 17/50\n",
            "78/78 [==============================] - 1s 18ms/step - loss: 0.6367 - accuracy: 0.6517 - val_loss: 0.6459 - val_accuracy: 0.6157\n",
            "Epoch 18/50\n",
            "78/78 [==============================] - 2s 27ms/step - loss: 0.6445 - accuracy: 0.6485 - val_loss: 0.6515 - val_accuracy: 0.6194\n",
            "Epoch 19/50\n",
            "78/78 [==============================] - 2s 26ms/step - loss: 0.6384 - accuracy: 0.6356 - val_loss: 0.6678 - val_accuracy: 0.6157\n",
            "Epoch 20/50\n",
            "78/78 [==============================] - 1s 16ms/step - loss: 0.6405 - accuracy: 0.6260 - val_loss: 0.6543 - val_accuracy: 0.6231\n",
            "Epoch 21/50\n",
            "78/78 [==============================] - 1s 17ms/step - loss: 0.6391 - accuracy: 0.6581 - val_loss: 0.6744 - val_accuracy: 0.6045\n",
            "Epoch 22/50\n",
            "78/78 [==============================] - 1s 17ms/step - loss: 0.6362 - accuracy: 0.6437 - val_loss: 0.6667 - val_accuracy: 0.6194\n",
            "Epoch 23/50\n",
            "78/78 [==============================] - 1s 19ms/step - loss: 0.6327 - accuracy: 0.6388 - val_loss: 0.6537 - val_accuracy: 0.6306\n",
            "Epoch 24/50\n",
            "78/78 [==============================] - 2s 21ms/step - loss: 0.6386 - accuracy: 0.6356 - val_loss: 0.6502 - val_accuracy: 0.6381\n",
            "Epoch 25/50\n",
            "78/78 [==============================] - 2s 20ms/step - loss: 0.6442 - accuracy: 0.6404 - val_loss: 0.6822 - val_accuracy: 0.6007\n",
            "Epoch 26/50\n",
            "78/78 [==============================] - 2s 24ms/step - loss: 0.6331 - accuracy: 0.6549 - val_loss: 0.6648 - val_accuracy: 0.6269\n",
            "Epoch 27/50\n",
            "78/78 [==============================] - 2s 28ms/step - loss: 0.6359 - accuracy: 0.6453 - val_loss: 0.6559 - val_accuracy: 0.6306\n",
            "Epoch 28/50\n",
            "78/78 [==============================] - 2s 21ms/step - loss: 0.6358 - accuracy: 0.6501 - val_loss: 0.6641 - val_accuracy: 0.6418\n",
            "Epoch 29/50\n",
            "78/78 [==============================] - 1s 16ms/step - loss: 0.6347 - accuracy: 0.6340 - val_loss: 0.6596 - val_accuracy: 0.6493\n",
            "Epoch 30/50\n",
            "78/78 [==============================] - 2s 19ms/step - loss: 0.6311 - accuracy: 0.6565 - val_loss: 0.6618 - val_accuracy: 0.6306\n",
            "Epoch 31/50\n",
            "78/78 [==============================] - 1s 19ms/step - loss: 0.6368 - accuracy: 0.6437 - val_loss: 0.6619 - val_accuracy: 0.6194\n",
            "Epoch 32/50\n",
            "78/78 [==============================] - 1s 18ms/step - loss: 0.6294 - accuracy: 0.6597 - val_loss: 0.6790 - val_accuracy: 0.6157\n",
            "Epoch 33/50\n",
            "78/78 [==============================] - 2s 23ms/step - loss: 0.6408 - accuracy: 0.6549 - val_loss: 0.6659 - val_accuracy: 0.6306\n",
            "Epoch 34/50\n",
            "78/78 [==============================] - 2s 29ms/step - loss: 0.6332 - accuracy: 0.6485 - val_loss: 0.6697 - val_accuracy: 0.6269\n",
            "Epoch 35/50\n",
            "78/78 [==============================] - 2s 27ms/step - loss: 0.6271 - accuracy: 0.6597 - val_loss: 0.6770 - val_accuracy: 0.6306\n",
            "Epoch 36/50\n",
            "78/78 [==============================] - 1s 18ms/step - loss: 0.6322 - accuracy: 0.6469 - val_loss: 0.6673 - val_accuracy: 0.6381\n",
            "Epoch 37/50\n",
            "78/78 [==============================] - 2s 21ms/step - loss: 0.6310 - accuracy: 0.6404 - val_loss: 0.6745 - val_accuracy: 0.6269\n",
            "Epoch 38/50\n",
            "78/78 [==============================] - 1s 19ms/step - loss: 0.6378 - accuracy: 0.6549 - val_loss: 0.6633 - val_accuracy: 0.6455\n",
            "Epoch 39/50\n",
            "78/78 [==============================] - 2s 19ms/step - loss: 0.6311 - accuracy: 0.6565 - val_loss: 0.6817 - val_accuracy: 0.6269\n",
            "Epoch 40/50\n",
            "78/78 [==============================] - 1s 18ms/step - loss: 0.6320 - accuracy: 0.6485 - val_loss: 0.6726 - val_accuracy: 0.6343\n",
            "Epoch 41/50\n",
            "78/78 [==============================] - 2s 22ms/step - loss: 0.6374 - accuracy: 0.6469 - val_loss: 0.6860 - val_accuracy: 0.6343\n",
            "Epoch 42/50\n",
            "78/78 [==============================] - 2s 32ms/step - loss: 0.6311 - accuracy: 0.6485 - val_loss: 0.6830 - val_accuracy: 0.6194\n",
            "Epoch 43/50\n",
            "78/78 [==============================] - 2s 24ms/step - loss: 0.6295 - accuracy: 0.6453 - val_loss: 0.6816 - val_accuracy: 0.6418\n",
            "Epoch 44/50\n",
            "78/78 [==============================] - 2s 21ms/step - loss: 0.6306 - accuracy: 0.6388 - val_loss: 0.6781 - val_accuracy: 0.6493\n",
            "Epoch 45/50\n",
            "78/78 [==============================] - 2s 22ms/step - loss: 0.6335 - accuracy: 0.6453 - val_loss: 0.6764 - val_accuracy: 0.6381\n",
            "Epoch 46/50\n",
            "78/78 [==============================] - 2s 22ms/step - loss: 0.6272 - accuracy: 0.6565 - val_loss: 0.6806 - val_accuracy: 0.6157\n",
            "Epoch 47/50\n",
            "78/78 [==============================] - 2s 21ms/step - loss: 0.6221 - accuracy: 0.6597 - val_loss: 0.6850 - val_accuracy: 0.6269\n",
            "Epoch 48/50\n",
            "78/78 [==============================] - 2s 24ms/step - loss: 0.6298 - accuracy: 0.6565 - val_loss: 0.6803 - val_accuracy: 0.6269\n",
            "Epoch 49/50\n",
            "78/78 [==============================] - 2s 32ms/step - loss: 0.6245 - accuracy: 0.6565 - val_loss: 0.6710 - val_accuracy: 0.6381\n",
            "Epoch 50/50\n",
            "78/78 [==============================] - 2s 22ms/step - loss: 0.6247 - accuracy: 0.6565 - val_loss: 0.6710 - val_accuracy: 0.6306\n"
          ]
        }
      ]
    },
    {
      "cell_type": "code",
      "source": [
        "plt.plot(history.history['loss'])\n",
        "plt.plot(history.history['val_loss'])\n",
        "plt.title(\"Model Loss\")\n",
        "plt.xlabel(\"Epoch\")\n",
        "plt.ylabel(\"Loss\")\n",
        "plt.legend(['train', 'val'], loc='upper right')\n",
        "plt.show()\n",
        "\n",
        "plt.plot(history.history['accuracy'])\n",
        "plt.plot(history.history['val_accuracy'])\n",
        "plt.title(\"Model Accuracy\")\n",
        "plt.xlabel(\"Epoch\")\n",
        "plt.ylabel(\"Accuracy\")\n",
        "plt.legend(['train', 'val'], loc='upper right')\n",
        "plt.show()"
      ],
      "metadata": {
        "colab": {
          "base_uri": "https://localhost:8080/",
          "height": 573
        },
        "id": "yjDreNOHO6yJ",
        "outputId": "ba6baf7d-9005-425a-9073-21d446820abf"
      },
      "execution_count": null,
      "outputs": [
        {
          "output_type": "display_data",
          "data": {
            "text/plain": [
              "<Figure size 432x288 with 1 Axes>"
            ],
            "image/png": "[encoded data removed]"
          },
          "metadata": {
            "needs_background": "light"
          }
        },
        {
          "output_type": "display_data",
          "data": {
            "text/plain": [
              "<Figure size 432x288 with 1 Axes>"
            ],
            "image/png": "[encoded data removed]"
          },
          "metadata": {
            "needs_background": "light"
          }
        }
      ]
    },
    {
      "cell_type": "code",
      "source": [
        "# split data\n",
        "x_train,x_test,y_train,y_test = train_test_split(X, y, test_size=0.3, random_state=0)\n",
        "\n",
        "# defining our tree object with the hyper parameters discussed above\n",
        "model.evaluate(x_test,  y_test, verbose=2)"
      ],
      "metadata": {
        "colab": {
          "base_uri": "https://localhost:8080/"
        },
        "id": "krGMIYQtfGqT",
        "outputId": "4b62abbe-5a04-4bbc-f988-436cbd6ece2a"
      },
      "execution_count": null,
      "outputs": [
        {
          "output_type": "stream",
          "name": "stdout",
          "text": [
            "9/9 - 0s - loss: 0.6554 - accuracy: 0.6679 - 79ms/epoch - 9ms/step\n"
          ]
        },
        {
          "output_type": "execute_result",
          "data": {
            "text/plain": [
              "[0.6554438471794128, 0.6679104566574097]"
            ]
          },
          "metadata": {},
          "execution_count": 24
        }
      ]
    }
  ]
}